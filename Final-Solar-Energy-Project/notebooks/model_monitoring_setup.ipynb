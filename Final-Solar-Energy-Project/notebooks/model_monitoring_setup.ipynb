{
 "cells": [
  {
   "cell_type": "markdown",
   "metadata": {},
   "source": [
    "## Algorithm training, testing, validation, and experiment tracking"
   ]
  },
  {
   "cell_type": "code",
   "execution_count": 1,
   "metadata": {},
   "outputs": [],
   "source": [
    "# import libraries\n",
    "import numpy as np\n",
    "import pandas as pd\n",
    "import seaborn as sns\n",
    "import matplotlib.pyplot as plt\n",
    "sns.set() # Revert to matplotlib defaults\n",
    "plt.rcParams['figure.figsize'] = (16, 12)\n",
    "import warnings\n",
    "warnings.filterwarnings(\"ignore\")"
   ]
  },
  {
   "cell_type": "markdown",
   "metadata": {},
   "source": [
    "### Model training and testing"
   ]
  },
  {
   "cell_type": "code",
   "execution_count": 2,
   "metadata": {},
   "outputs": [],
   "source": [
    "# import libraries for algorithms traininng, and metrics to judge performance\n",
    "from sklearn.pipeline import Pipeline\n",
    "from sklearn.preprocessing import StandardScaler\n",
    "from sklearn.linear_model import LinearRegression\n",
    "from sklearn.ensemble import RandomForestRegressor\n",
    "from sklearn.ensemble import GradientBoostingRegressor\n",
    "from sklearn.model_selection import train_test_split\n",
    "from sklearn.metrics import mean_squared_error, mean_absolute_error, r2_score\n",
    "from sklearn.pipeline import make_pipeline\n",
    "from sklearn.model_selection import StratifiedKFold, RepeatedKFold, KFold\n",
    "from sklearn.model_selection import cross_val_score\n",
    "from yellowbrick.regressor import ResidualsPlot"
   ]
  },
  {
   "cell_type": "code",
   "execution_count": 3,
   "metadata": {},
   "outputs": [],
   "source": [
    "# training data\n",
    "train_df = pd.read_csv('~/Desktop/working/HW-3-Solar-Enery-Project/datasets/cleaned/train.csv')\n",
    "X_train = train_df.drop(['Daily_radiation'], axis = 1)\n",
    "y_train = train_df['Daily_radiation']\n",
    "\n",
    "# test data\n",
    "test_df = pd.read_csv('~/Desktop/working/HW-3-Solar-Enery-Project/datasets/cleaned/test.csv')\n",
    "X_test = test_df.drop(['Daily_radiation'], axis = 1)\n",
    "y_test = test_df['Daily_radiation']"
   ]
  },
  {
   "cell_type": "markdown",
   "metadata": {},
   "source": [
    "### Linear Regression"
   ]
  },
  {
   "cell_type": "code",
   "execution_count": 4,
   "metadata": {},
   "outputs": [],
   "source": [
    "# Setup the pipeline steps for linear regression\n",
    "steps = [('scaler', StandardScaler()), ('lr', LinearRegression())]\n",
    "# Create the pipeline\n",
    "pipeline_lr = Pipeline(steps)\n",
    "# Fit the pipeline to the train set\n",
    "pipeline_lr.fit(X_train, y_train)\n",
    "# Predict the labels of the test set\n",
    "y_pred_lr = pipeline_lr.predict(X_test)"
   ]
  },
  {
   "cell_type": "code",
   "execution_count": 5,
   "metadata": {},
   "outputs": [
    {
     "name": "stdout",
     "output_type": "stream",
     "text": [
      "r2_score 0.8879723669160815\n",
      "Root Mean Squared Error: 6.53\n",
      "Root Mean Absolute Error: 5.85\n"
     ]
    }
   ],
   "source": [
    "#Evaluating algorithm performance\n",
    "mse = mean_squared_error(y_test, y_pred_lr, squared = False)\n",
    "\n",
    "mae = mean_absolute_error(y_test, y_pred_lr)\n",
    "\n",
    "print('r2_score', r2_score(y_test, y_pred_lr))\n",
    "\n",
    "print('Root Mean Squared Error: %.2f' % np.sqrt(mse))\n",
    "\n",
    "print('Root Mean Absolute Error: %.2f' % np.sqrt(mae))"
   ]
  },
  {
   "cell_type": "markdown",
   "metadata": {},
   "source": [
    "### Random Forest Regressor"
   ]
  },
  {
   "cell_type": "code",
   "execution_count": 6,
   "metadata": {},
   "outputs": [],
   "source": [
    "# Setup the pipeline steps for random forest: steps\n",
    "steps = [('scaler', StandardScaler()), ('rfr', RandomForestRegressor())]\n",
    "# Create the pipeline: pipeline\n",
    "pipeline_rfr = Pipeline(steps)\n",
    "# Fit the pipeline to the train set\n",
    "pipeline_rfr.fit(X_train, y_train)\n",
    "# Predict the labels of the test set\n",
    "y_pred_rfr = pipeline_rfr.predict(X_test)"
   ]
  },
  {
   "cell_type": "code",
   "execution_count": 7,
   "metadata": {},
   "outputs": [
    {
     "name": "stdout",
     "output_type": "stream",
     "text": [
      "r2_score 0.9804944054511663\n",
      "Root Mean Squared Error: 4.22\n",
      "Root Mean Absolute Error: 3.73\n"
     ]
    }
   ],
   "source": [
    "# Evaluating algorithm performance\n",
    "mse_rf = mean_squared_error(y_test, y_pred_rfr, squared=False)\n",
    "\n",
    "mae_rf = mean_absolute_error(y_test, y_pred_rfr)\n",
    "\n",
    "print('r2_score', r2_score(y_test, y_pred_rfr))\n",
    "\n",
    "print('Root Mean Squared Error: %.2f' % np.sqrt(mse_rf))\n",
    "\n",
    "print('Root Mean Absolute Error: %.2f' % np.sqrt(mae_rf))"
   ]
  },
  {
   "cell_type": "markdown",
   "metadata": {},
   "source": [
    "### GradientBoosting Regressor"
   ]
  },
  {
   "cell_type": "code",
   "execution_count": 8,
   "metadata": {},
   "outputs": [],
   "source": [
    "# Setup the pipeline steps: steps\n",
    "steps = [('scaler', StandardScaler()), ('gbr', GradientBoostingRegressor())]\n",
    "# Create the pipeline: pipeline\n",
    "pipeline_gbr = Pipeline(steps)\n",
    "# Fit the pipeline to the train set\n",
    "pipeline_gbr.fit(X_train, y_train)\n",
    "# Predict the labels of the test set\n",
    "y_pred_gbr = pipeline_gbr.predict(X_test)"
   ]
  },
  {
   "cell_type": "code",
   "execution_count": 9,
   "metadata": {},
   "outputs": [
    {
     "name": "stdout",
     "output_type": "stream",
     "text": [
      "r2_score 0.9772753121664325\n",
      "Root Mean Squared Error: 4.38\n",
      "Root Mean Absolute Error: 3.80\n"
     ]
    }
   ],
   "source": [
    "# Evaluating algorithm performance\n",
    "mse_gr = mean_squared_error(y_test, y_pred_gbr, squared = False)\n",
    "\n",
    "mae_gr = mean_absolute_error(y_test, y_pred_gbr)\n",
    "\n",
    "print('r2_score', r2_score(y_test, y_pred_gbr))\n",
    "\n",
    "print('Root Mean Squared Error: %.2f' % np.sqrt(mse_gr))\n",
    "\n",
    "print('Root Mean Absolute Error: %.2f' % np.sqrt(mae_gr))"
   ]
  },
  {
   "cell_type": "markdown",
   "metadata": {},
   "source": [
    "### Model Validation"
   ]
  },
  {
   "cell_type": "code",
   "execution_count": 10,
   "metadata": {},
   "outputs": [],
   "source": [
    "# validation data\n",
    "val_df = pd.read_csv('~/Desktop/working/HW-3-Solar-Enery-Project/datasets/cleaned/validation.csv')\n",
    "X_val = val_df.drop(['Daily_radiation'], axis = 1)\n",
    "y_val = val_df['Daily_radiation']"
   ]
  },
  {
   "cell_type": "code",
   "execution_count": 11,
   "metadata": {},
   "outputs": [],
   "source": [
    "y_val_lr = pipeline_lr.predict(X_val)\n",
    "y_val_rfr = pipeline_rfr.predict(X_val)\n",
    "y_val_gbr = pipeline_gbr.predict(X_val)"
   ]
  },
  {
   "cell_type": "code",
   "execution_count": 12,
   "metadata": {},
   "outputs": [
    {
     "name": "stdout",
     "output_type": "stream",
     "text": [
      "r2_score 0.8719793640959541\n",
      "Linear Regression - Root Mean Squared Error: 6.74\n",
      "Linear Regression - Root Mean Absolute Error: 6.74\n"
     ]
    }
   ],
   "source": [
    "# Evaluating algorithm performance for linear regression\n",
    "mse_lr_val = mean_squared_error(y_val, y_val_lr, squared = False)\n",
    "\n",
    "mae_lr_val = mean_absolute_error(y_val, y_val_lr)\n",
    "\n",
    "print('r2_score', r2_score(y_val, y_val_lr))\n",
    "\n",
    "print('Linear Regression - Root Mean Squared Error: %.2f' % np.sqrt(mse_lr_val))\n",
    "\n",
    "print('Linear Regression - Root Mean Absolute Error: %.2f' % np.sqrt(mse_lr_val))"
   ]
  },
  {
   "cell_type": "code",
   "execution_count": 13,
   "metadata": {},
   "outputs": [
    {
     "name": "stdout",
     "output_type": "stream",
     "text": [
      "r2_score 0.9817144344254628\n",
      "Random Forest - Root Mean Squared Error: 4.14\n",
      "Random Forest - Root Mean Absolute Error: 4.14\n"
     ]
    }
   ],
   "source": [
    "# Evaluating algorithm performance for random forest regression\n",
    "mse_rf_val = mean_squared_error(y_val, y_val_rfr, squared = False)\n",
    "\n",
    "mae_rf_val = mean_absolute_error(y_val, y_val_rfr)\n",
    "\n",
    "print('r2_score', r2_score(y_val, y_val_rfr))\n",
    "\n",
    "print('Random Forest - Root Mean Squared Error: %.2f' % np.sqrt(mse_rf_val))\n",
    "\n",
    "print('Random Forest - Root Mean Absolute Error: %.2f' % np.sqrt(mse_rf_val))"
   ]
  },
  {
   "cell_type": "code",
   "execution_count": 14,
   "metadata": {},
   "outputs": [
    {
     "name": "stdout",
     "output_type": "stream",
     "text": [
      "r2_score 0.9783439634707554\n",
      "Gradient Boost - Root Mean Squared Error: 4.32\n",
      "Gradient Boost - Root Mean Absolute Error: 3.84\n"
     ]
    }
   ],
   "source": [
    "# Evaluating algorithm performance for gradient boost regression\n",
    "mse_gbr_val = mean_squared_error(y_val, y_val_gbr, squared = False)\n",
    "\n",
    "mae_gbr_val = mean_absolute_error(y_val, y_val_gbr)\n",
    "\n",
    "print('r2_score', r2_score(y_val, y_val_gbr))\n",
    "\n",
    "print('Gradient Boost - Root Mean Squared Error: %.2f' % np.sqrt(mse_gbr_val))\n",
    "\n",
    "print('Gradient Boost - Root Mean Absolute Error: %.2f' % np.sqrt(mae_gbr_val))"
   ]
  },
  {
   "cell_type": "code",
   "execution_count": 15,
   "metadata": {
    "scrolled": true
   },
   "outputs": [],
   "source": [
    "# Create a pipeline to scale our data then fit our different models\n",
    "pipelines = {\n",
    "    'LR': make_pipeline(StandardScaler(), LinearRegression()),\n",
    "    'RF': make_pipeline(StandardScaler(), RandomForestRegressor(random_state=1)),\n",
    "    'GBR': make_pipeline(StandardScaler(), GradientBoostingRegressor(random_state=1)),\n",
    "}\n"
   ]
  },
  {
   "cell_type": "code",
   "execution_count": 16,
   "metadata": {},
   "outputs": [
    {
     "name": "stdout",
     "output_type": "stream",
     "text": [
      "LR has been fitted.\n",
      "LR: 0.877289 (0.034878)\n",
      "RF has been fitted.\n",
      "RF: 0.974038 (0.008699)\n",
      "GBR has been fitted.\n",
      "GBR: 0.973259 (0.010246)\n"
     ]
    }
   ],
   "source": [
    "# The following code fits the model, and evoluate model performance\n",
    "# through cross validation in order to see how models generalize\n",
    "results = []\n",
    "names = []\n",
    "for name, model in pipelines.items():\n",
    "    # Fit model on X_train, y_train\n",
    "    model.fit(X_train.values, y_train)\n",
    "    # Store model in fitted_models[name] for later use\n",
    "    # Print '{name} has been fitted'\n",
    "    print(name, 'has been fitted.')\n",
    "\n",
    "    # Cross validation in order to see how the model generalizes across 10 foldS\n",
    "    kfold = KFold(n_splits=20, random_state=1, shuffle=True)#\n",
    "    cv_results = cross_val_score(model, X_train.values, y_train, cv=kfold, scoring='r2')\n",
    "    results.append(cv_results)\n",
    "    names.append(name)\n",
    "    # Print average r2 and standard deviation of r2 based on 10 CV folds\n",
    "    print('%s: %f (%f)' % (name, cv_results.mean(), cv_results.std()))"
   ]
  },
  {
   "cell_type": "code",
   "execution_count": 17,
   "metadata": {},
   "outputs": [
    {
     "data": {
      "image/png": "[encoded data removed]",
      "text/plain": [
       "<Figure size 576x396 with 1 Axes>"
      ]
     },
     "metadata": {},
     "output_type": "display_data"
    }
   ],
   "source": [
    "# Visualize performace of each model using boxplots\n",
    "plt.boxplot(results, labels=names)\n",
    "plt.title('Algorithm Comparison')\n",
    "plt.show()"
   ]
  },
  {
   "cell_type": "code",
   "execution_count": 18,
   "metadata": {},
   "outputs": [],
   "source": [
    "# Among our 3 models, Random Forest Regressor performs slightly better than Gradient Boosting Regressor terms of \n",
    "# average R2 score on the 20 folds. "
   ]
  },
  {
   "cell_type": "code",
   "execution_count": 19,
   "metadata": {
    "scrolled": false
   },
   "outputs": [
    {
     "data": {
      "image/png": "[encoded data removed]",
      "text/plain": [
       "<Figure size 576x396 with 2 Axes>"
      ]
     },
     "metadata": {},
     "output_type": "display_data"
    }
   ],
   "source": [
    "\n",
    "visualizer = ResidualsPlot(pipeline_rfr)\n",
    "\n",
    "visualizer.fit(X_train.values, y_train)  \n",
    "visualizer.score(X_test.values, y_test)  \n",
    "visualizer.show();  "
   ]
  },
  {
   "cell_type": "code",
   "execution_count": 20,
   "metadata": {},
   "outputs": [
    {
     "data": {
      "image/png": "[encoded data removed]",
      "text/plain": [
       "<Figure size 576x396 with 2 Axes>"
      ]
     },
     "metadata": {},
     "output_type": "display_data"
    }
   ],
   "source": [
    "visualizer = ResidualsPlot(pipeline_gbr)\n",
    "\n",
    "visualizer.fit(X_train.values, y_train)  \n",
    "visualizer.score(X_test.values, y_test)  \n",
    "visualizer.show();  "
   ]
  },
  {
   "cell_type": "code",
   "execution_count": 21,
   "metadata": {},
   "outputs": [],
   "source": [
    "## Export model and hook it with api"
   ]
  },
  {
   "cell_type": "markdown",
   "metadata": {},
   "source": [
    "## Experiment tracking with neptune"
   ]
  },
  {
   "cell_type": "code",
   "execution_count": 22,
   "metadata": {},
   "outputs": [],
   "source": [
    "# Terminal\n",
    "# pip install neptune-notebooks\n",
    "# jupyter nbextension enable --py neptune-notebooks\n",
    "# pip install neptune-client\n",
    "# pip install neptune-sklearn\n",
    "# pip install delayed "
   ]
  },
  {
   "cell_type": "code",
   "execution_count": 23,
   "metadata": {},
   "outputs": [
    {
     "name": "stdout",
     "output_type": "stream",
     "text": [
      "https://app.neptune.ai/kessiezhang/omdena-mlops/e/OM-4\n"
     ]
    },
    {
     "name": "stderr",
     "output_type": "stream",
     "text": [
      "Info (NVML): NVML Shared Library Not Found. GPU usage metrics may not be reported. For more information, see https://docs.neptune.ai/you-should-know/what-can-you-log-and-display#hardware-consumption\n"
     ]
    },
    {
     "name": "stdout",
     "output_type": "stream",
     "text": [
      "Remember to stop your run once you’ve finished logging your metadata (https://docs.neptune.ai/api-reference/run#stop). It will be stopped automatically only when the notebook kernel/interactive console is terminated.\n"
     ]
    }
   ],
   "source": [
    "# setup an account on neptune.ai\n",
    "# create a new project and paste your project name and the api_token here\n",
    "# import neptune libraries and sklearn integration\n",
    "import neptune.new as neptune\n",
    "import neptune.new.integrations.sklearn as npt_utils\n",
    "\n",
    "run = neptune.init(api_token = \"eyJhcGlfYWRkcmVzcyI6Imh0dHBzOi8vYXBwLm5lcHR1bmUuYWkiLCJhcGlfdXJsIjoiaHR0cHM6Ly9hcHAubmVwdHVuZS5haSIsImFwaV9rZXkiOiIyMjFmNzNkMS1mZjQ1LTQ1NmEtOWZjMS1mZGU3MzYxMWFlMDYifQ==\",\n",
    "                   project = \"kessiezhang/omdena-mlops\",\n",
    "                   name = 'solar-irradiation',\n",
    "                   source_files = [\"model_dev_sr.ipynb\"])"
   ]
  },
  {
   "cell_type": "code",
   "execution_count": 24,
   "metadata": {},
   "outputs": [],
   "source": [
    "# Track files, models, and folders\n",
    "# File\n",
    "run[\"cleaned_datasets\"].track_files(\"/Users/keszhang/Desktop/working/HW-3-Solar-Enery-Project/datasets/cleaned\")\n",
    "run[\"raw_datasets\"].track_files(\"/Users/keszhang/Desktop/working/HW-3-Solar-Enery-Project/datasets/raw\")\n",
    "\n",
    "# Folder\n",
    "run[\"notebooks\"].track_files(\"../notebooks/\")"
   ]
  },
  {
   "cell_type": "code",
   "execution_count": 62,
   "metadata": {
    "scrolled": false
   },
   "outputs": [],
   "source": [
    "# train, and test; while tracking the experiment\n",
    "run['lr_summary'] = npt_utils.create_regressor_summary(pipeline_lr, X_train, X_test, y_train, y_test)\n",
    "\n",
    "run['gbr_summary'] = npt_utils.create_regressor_summary(pipeline_gbr, X_train, X_test, y_train, y_test)\n",
    "\n",
    "run['rfr_summary'] = npt_utils.create_regressor_summary(pipeline_rfr, X_train, X_test, y_train, y_test)"
   ]
  },
  {
   "cell_type": "code",
   "execution_count": 26,
   "metadata": {},
   "outputs": [
    {
     "name": "stdout",
     "output_type": "stream",
     "text": [
      "Shutting down background jobs, please wait a moment...\n",
      "Done!\n"
     ]
    },
    {
     "name": "stderr",
     "output_type": "stream",
     "text": [
      "Waiting for the remaining 39 operations to synchronize with Neptune. Do not kill this process.\n"
     ]
    },
    {
     "name": "stdout",
     "output_type": "stream",
     "text": [
      "All 39 operations synced, thanks for waiting!\n"
     ]
    }
   ],
   "source": [
    "# stop experiment\n",
    "run.stop()"
   ]
  },
  {
   "cell_type": "markdown",
   "metadata": {},
   "source": [
    "## Experiment tracking with mlflow\n",
    "\n",
    "MLflow is an open-source platform to manage the ML lifecycle, including experimentation, reproducibility, deployment, and a central model registry. MLflow currently offers four components:\n",
    "MLflow Tracking is an API and UI for logging parameters, code versions, metrics, and artifacts when running your machine learning code and for later visualizing the results"
   ]
  },
  {
   "cell_type": "code",
   "execution_count": 27,
   "metadata": {},
   "outputs": [],
   "source": [
    "# ! pip install mlflow\n",
    "# mlflow server --backend-store-uri sqlite:///mlflow.db --default-artifact-root ./artifacts --host 0.0.0.0\n",
    "# kill `lsof -i :5000`"
   ]
  },
  {
   "cell_type": "code",
   "execution_count": 74,
   "metadata": {
    "scrolled": true
   },
   "outputs": [],
   "source": [
    "# import libraries\n",
    "import mlflow.projects as projects  # noqa\n",
    "import mlflow.tracking as tracking  # noqa\n",
    "import mlflow.tracking.fluent\n",
    "from mlflow.utils.logging_utils import _configure_mlflow_loggers\n",
    "import mlflow\n",
    "import mlflow.sklearn"
   ]
  },
  {
   "cell_type": "code",
   "execution_count": 75,
   "metadata": {},
   "outputs": [],
   "source": [
    "# model metrics for linear regression\n",
    "rmse_lr_pred = np.sqrt(mean_squared_error(y_test, y_pred_lr, squared = False))\n",
    "rmae_lr_pred = np.sqrt(mean_absolute_error(y_test, y_pred_lr))\n",
    "R2_score_lr = r2_score(y_test, y_pred_lr)\n",
    "\n",
    "# model metrics for random forest\n",
    "rmse_rfr_pred = np.sqrt(mean_squared_error(y_test, y_pred_rfr, squared = False))\n",
    "rmae_rfr_pred = np.sqrt(mean_absolute_error(y_test, y_pred_rfr))\n",
    "R2_score_rfr = r2_score(y_test, y_pred_rfr)\n",
    "\n",
    "# model metrics for gradient boost\n",
    "rmse_gbr_pred = np.sqrt(mean_squared_error(y_test, y_pred_gbr, squared = False))\n",
    "rmae_gbr_pred = np.sqrt(mean_absolute_error(y_test, y_pred_gbr))\n",
    "R2_score_gbr = r2_score(y_test, y_pred_gbr)"
   ]
  },
  {
   "cell_type": "markdown",
   "metadata": {},
   "source": [
    "#### manually log experiment"
   ]
  },
  {
   "cell_type": "code",
   "execution_count": 92,
   "metadata": {},
   "outputs": [],
   "source": [
    "# In Terminal: mlflow ui --> open mlflow dashboard\n",
    "# open a new tab: http://127.0.0.1:5000/#/ to view the mlflow dashboard\n",
    "# if you forget to terminte job at port 500, use this commend to kill them: kill `lsof -i :5000`\n",
    "# \n",
    "\n",
    "# set the tracking uri\n",
    "mlflow.set_tracking_uri(\"http://127.0.0.1:5000/\")\n",
    "experiment = mlflow.get_experiment('0')"
   ]
  },
  {
   "cell_type": "code",
   "execution_count": 93,
   "metadata": {},
   "outputs": [
    {
     "name": "stdout",
     "output_type": "stream",
     "text": [
      "Name of experiment: Default\n",
      "Location of Artifact: ./mlruns/0\n",
      "Life cycle phase: active\n",
      "Experiment_ID: 0\n"
     ]
    }
   ],
   "source": [
    "print(\"Name of experiment: {}\".format(experiment.name))\n",
    "print(\"Location of Artifact: {}\".format(experiment.artifact_location))\n",
    "print(\"Life cycle phase: {}\".format(experiment.lifecycle_stage))\n",
    "print(\"Experiment_ID: {}\".format(experiment.experiment_id))"
   ]
  },
  {
   "cell_type": "code",
   "execution_count": 94,
   "metadata": {
    "scrolled": true
   },
   "outputs": [],
   "source": [
    "# start experiment tracking\n",
    "run = mlflow.start_run(run_name = 'solar_irradiation')\n",
    "run_id = run.info.run_id"
   ]
  },
  {
   "cell_type": "code",
   "execution_count": 95,
   "metadata": {},
   "outputs": [],
   "source": [
    "# mlflow.end_run()"
   ]
  },
  {
   "cell_type": "code",
   "execution_count": 96,
   "metadata": {},
   "outputs": [],
   "source": [
    "# Log mlflow attributes for mlflow UI\n",
    "# log metrics for linear regression\n",
    "mlflow.log_metric(\"rmse_lr\", rmse_lr_pred)\n",
    "mlflow.log_metric(\"rmae_lr\", rmae_lr_pred)\n",
    "mlflow.log_metric(\"r2_score_lr\", R2_score_lr)\n",
    "\n",
    "# log metrics for random forest\n",
    "mlflow.log_metric(\"rmse_rfr\", rmse_rfr_pred)\n",
    "mlflow.log_metric(\"rmae_rfr\", rmae_rfr_pred)\n",
    "mlflow.log_metric(\"r2_score_rfr\", R2_score_rfr)\n",
    "\n",
    "# log metrics for gradientboost\n",
    "mlflow.log_metric(\"rmse_gbr\", rmse_gbr_pred)\n",
    "mlflow.log_metric(\"rmae_gbr\", rmae_gbr_pred)\n",
    "mlflow.log_metric(\"r2_score_gbr\", R2_score_gbr)"
   ]
  },
  {
   "cell_type": "code",
   "execution_count": 97,
   "metadata": {},
   "outputs": [
    {
     "name": "stderr",
     "output_type": "stream",
     "text": [
      "Registered model 'linear-regression-model' already exists. Creating a new version of this model...\n",
      "2022/01/17 12:29:13 INFO mlflow.tracking._model_registry.client: Waiting up to 300 seconds for model version to finish creation.                     Model name: linear-regression-model, version 2\n",
      "Created version '2' of model 'linear-regression-model'.\n",
      "Registered model 'sklearn-random-forest-model' already exists. Creating a new version of this model...\n",
      "2022/01/17 12:29:15 INFO mlflow.tracking._model_registry.client: Waiting up to 300 seconds for model version to finish creation.                     Model name: sklearn-random-forest-model, version 2\n",
      "Created version '2' of model 'sklearn-random-forest-model'.\n",
      "Registered model 'sklearn-gradientboost-model' already exists. Creating a new version of this model...\n",
      "2022/01/17 12:29:16 INFO mlflow.tracking._model_registry.client: Waiting up to 300 seconds for model version to finish creation.                     Model name: sklearn-gradientboost-model, version 2\n",
      "Created version '2' of model 'sklearn-gradientboost-model'.\n"
     ]
    }
   ],
   "source": [
    "# log models experiments\n",
    "artifact_path = \"default\"\n",
    "mlflow.sklearn.log_model(pipeline_lr, artifact_path = artifact_path, registered_model_name = \"linear-regression-model\")\n",
    "mlflow.sklearn.log_model(pipeline_rfr, artifact_path = artifact_path, registered_model_name = \"sklearn-random-forest-model\")\n",
    "mlflow.sklearn.log_model(pipeline_gbr, artifact_path = artifact_path, registered_model_name = \"sklearn-gradientboost-model\")"
   ]
  },
  {
   "cell_type": "code",
   "execution_count": 98,
   "metadata": {},
   "outputs": [],
   "source": [
    "# Log artifacts (output files)\n",
    "mlflow.log_artifact(\"lr_line_of_fit.jpg\", artifact_path = 'features')\n",
    "\n",
    "# Log Features\n",
    "mlflow.log_artifact('train.csv', artifact_path = 'features')"
   ]
  },
  {
   "cell_type": "code",
   "execution_count": 99,
   "metadata": {},
   "outputs": [],
   "source": [
    "# End tracking\n",
    "mlflow.end_run()"
   ]
  },
  {
   "cell_type": "markdown",
   "metadata": {},
   "source": [
    "#### Auto log experiment"
   ]
  },
  {
   "cell_type": "code",
   "execution_count": 100,
   "metadata": {},
   "outputs": [
    {
     "name": "stderr",
     "output_type": "stream",
     "text": [
      "2022/01/17 12:31:43 WARNING mlflow.utils.autologging_utils: You are using an unsupported version of sklearn. If you encounter errors during autologging, try upgrading / downgrading sklearn to a supported version, or try upgrading MLflow.\n"
     ]
    }
   ],
   "source": [
    "# enable auto logging\n",
    "mlflow.sklearn.autolog(log_models = True)"
   ]
  },
  {
   "cell_type": "code",
   "execution_count": 101,
   "metadata": {},
   "outputs": [
    {
     "name": "stderr",
     "output_type": "stream",
     "text": [
      "2022/01/17 12:34:01 WARNING mlflow.utils.autologging_utils: Encountered unexpected error during sklearn autologging: The following failures occurred while performing one or more logging operations: [MlflowException('Failed to perform one or more operations on the run with ID 5b960f535cd44220bf5b7727e65f0e88. Failed operations: [RestException(\"INVALID_PARAMETER_VALUE: Changing param values is not allowed. Param with key=\\'steps\\' was already logged with value=\\'[(\\'scaler\\', StandardScaler()), (\\'lr\\', LinearRegression())]\\' for run ID=\\'5b960f535cd44220bf5b7727e65f0e88\\'. Attempted logging new value \\'[(\\'scaler\\', StandardScaler()), (\\'rfr\\', RandomForestRegressor())]\\'.\")]')]\n",
      "2022/01/17 12:34:03 WARNING mlflow.utils.autologging_utils: Encountered unexpected error during sklearn autologging: The following failures occurred while performing one or more logging operations: [MlflowException('Failed to perform one or more operations on the run with ID 5b960f535cd44220bf5b7727e65f0e88. Failed operations: [RestException(\"INVALID_PARAMETER_VALUE: Changing param values is not allowed. Param with key=\\'steps\\' was already logged with value=\\'[(\\'scaler\\', StandardScaler()), (\\'lr\\', LinearRegression())]\\' for run ID=\\'5b960f535cd44220bf5b7727e65f0e88\\'. Attempted logging new value \\'[(\\'scaler\\', StandardScaler()), (\\'gbr\\', GradientBoostingRegressor())]\\'.\")]')]\n"
     ]
    }
   ],
   "source": [
    "with mlflow.start_run(experiment_id = experiment.experiment_id, run_name = 'auto_lr_model') as run:\n",
    "    pipeline_lr.fit(X_train,\n",
    "                      y_train)\n",
    "    y_pred_lr = pipeline_lr.predict(X_test)\n",
    "    pipeline_rfr.fit(X_train,\n",
    "                      y_train)\n",
    "    y_pred_rfr = pipeline_rfr.predict(X_test)\n",
    "    pipeline_gbr.fit(X_train,\n",
    "                      y_train)\n",
    "    y_pred_gbr = pipeline_gbr.predict(X_test)"
   ]
  },
  {
   "cell_type": "code",
   "execution_count": 102,
   "metadata": {},
   "outputs": [],
   "source": [
    "# End tracking\n",
    "mlflow.end_run()"
   ]
  },
  {
   "cell_type": "markdown",
   "metadata": {},
   "source": [
    "### Export models"
   ]
  },
  {
   "cell_type": "code",
   "execution_count": 103,
   "metadata": {},
   "outputs": [
    {
     "name": "stdout",
     "output_type": "stream",
     "text": [
      "1.0.2\n"
     ]
    }
   ],
   "source": [
    "# check sklearn version\n",
    "from sklearn import __version__\n",
    "\n",
    "print(__version__)"
   ]
  },
  {
   "cell_type": "code",
   "execution_count": 104,
   "metadata": {},
   "outputs": [
    {
     "data": {
      "text/plain": [
       "['model_gbr.pkl']"
      ]
     },
     "execution_count": 104,
     "metadata": {},
     "output_type": "execute_result"
    }
   ],
   "source": [
    "# loading libraries\n",
    "import joblib\n",
    "\n",
    "\n",
    "# we will be using this pickle model for building a flask app\n",
    "# Save Models to file in the model directory\n",
    "# save linear regression model\n",
    "joblib_lr = \"model_lr.pkl\"  \n",
    "joblib.dump(pipeline_lr, joblib_lr)\n",
    "# save random forest model\n",
    "joblib_rfr = \"model_rfr.pkl\" \n",
    "joblib.dump(pipeline_lr, joblib_rfr)\n",
    "# save gradientboost model\n",
    "joblib_gbr = \"model_gbr.pkl\"  \n",
    "joblib.dump(pipeline_lr, joblib_gbr)"
   ]
  },
  {
   "cell_type": "markdown",
   "metadata": {},
   "source": [
    "### Recommended reading\n",
    "\n",
    "1. https://docs.neptune.ai/integrations-and-supported-tools/model-training/sklearn\n",
    "\n",
    "2. https://mlflow.org/docs/latest/tracking.html#scenario-1-mlflow-on-localhost\n",
    "\n",
    "3. https://docs.neptune.ai/getting-started/examples#data-versioning "
   ]
  }
 ],
 "metadata": {
  "kernelspec": {
   "display_name": "Python 3",
   "language": "python",
   "name": "python3"
  },
  "language_info": {
   "codemirror_mode": {
    "name": "ipython",
    "version": 3
   },
   "file_extension": ".py",
   "mimetype": "text/x-python",
   "name": "python",
   "nbconvert_exporter": "python",
   "pygments_lexer": "ipython3",
   "version": "3.8.5"
  }
 },
 "nbformat": 4,
 "nbformat_minor": 5
}
